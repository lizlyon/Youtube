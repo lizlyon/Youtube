{
 "cells": [
  {
   "cell_type": "markdown",
   "id": "smooth-israel",
   "metadata": {},
   "source": [
    "## Import Libraries"
   ]
  },
  {
   "cell_type": "code",
   "execution_count": 85,
   "id": "rolled-mortality",
   "metadata": {},
   "outputs": [],
   "source": [
    "import pandas as pd\n",
    "import numpy as np\n",
    "from plotnine import *\n",
    "\n",
    "from sklearn.linear_model import LogisticRegression # Logistic Regression Model\n",
    "from sklearn.preprocessing import StandardScaler #Z-score variables\n",
    "from sklearn.metrics import accuracy_score, confusion_matrix\n",
    "from sklearn.model_selection import train_test_split # simple TT split cv\n",
    "from sklearn.model_selection import KFold # k-fold cv\n",
    "from sklearn.model_selection import cross_val_score # cross validation metrics\n",
    "from sklearn.model_selection import cross_val_predict # cross validation metrics\n",
    "from sklearn.preprocessing import OrdinalEncoder\n",
    "from sklearn.metrics import accuracy_score, confusion_matrix, plot_confusion_matrix\n",
    "from sklearn.cluster import KMeans\n",
    "from sklearn.mixture import GaussianMixture\n",
    "from sklearn.metrics import silhouette_score\n",
    "from sklearn.neighbors import NearestNeighbors\n",
    "from sklearn.decomposition import PCA\n",
    "from sklearn.linear_model import LinearRegression # Linear Regression Model\n",
    "from sklearn.preprocessing import StandardScaler #Z-score variables\n",
    "from sklearn.metrics import mean_squared_error, mean_absolute_error, r2_score #model evaluation\n",
    "from sklearn.cluster import DBSCAN\n",
    "\n",
    "import matplotlib.pyplot as plt\n",
    "\n",
    "import warnings\n",
    "warnings.filterwarnings(\"ignore\")\n",
    "\n",
    "%matplotlib inline\n",
    "\n",
    "import matplotlib.pyplot as plt\n",
    "import numpy as np\n",
    "from sklearn.linear_model import LogisticRegression\n",
    "from sklearn.metrics import classification_report, confusion_matrix\n",
    "\n",
    "from sklearn.metrics import accuracy_score, confusion_matrix, plot_confusion_matrix,\\\n",
    " f1_score, recall_score, plot_roc_curve, precision_score, roc_auc_score"
   ]
  },
  {
   "cell_type": "code",
   "execution_count": 67,
   "id": "exposed-anderson",
   "metadata": {},
   "outputs": [
    {
     "data": {
      "text/html": [
       "<div>\n",
       "<style scoped>\n",
       "    .dataframe tbody tr th:only-of-type {\n",
       "        vertical-align: middle;\n",
       "    }\n",
       "\n",
       "    .dataframe tbody tr th {\n",
       "        vertical-align: top;\n",
       "    }\n",
       "\n",
       "    .dataframe thead th {\n",
       "        text-align: right;\n",
       "    }\n",
       "</style>\n",
       "<table border=\"1\" class=\"dataframe\">\n",
       "  <thead>\n",
       "    <tr style=\"text-align: right;\">\n",
       "      <th></th>\n",
       "      <th>Video Title</th>\n",
       "      <th>External Video ID</th>\n",
       "      <th>Video Length</th>\n",
       "      <th>Thumbnail link</th>\n",
       "      <th>Country Code</th>\n",
       "      <th>Is Subscribed</th>\n",
       "      <th>Views</th>\n",
       "      <th>Video Likes Added</th>\n",
       "      <th>Video Dislikes Added</th>\n",
       "      <th>Video Likes Removed</th>\n",
       "      <th>User Subscriptions Added</th>\n",
       "      <th>User Subscriptions Removed</th>\n",
       "      <th>Average View Percentage</th>\n",
       "      <th>Average Watch Time</th>\n",
       "      <th>User Comments Added</th>\n",
       "    </tr>\n",
       "  </thead>\n",
       "  <tbody>\n",
       "    <tr>\n",
       "      <th>0</th>\n",
       "      <td>🌶 Hot Topics in Tech: Data Science Explained #...</td>\n",
       "      <td>OtqQYqRNDGI</td>\n",
       "      <td>59</td>\n",
       "      <td>https://i.ytimg.com/vi/OtqQYqRNDGI/hqdefault.jpg</td>\n",
       "      <td>HK</td>\n",
       "      <td>True</td>\n",
       "      <td>23</td>\n",
       "      <td>1</td>\n",
       "      <td>0</td>\n",
       "      <td>0</td>\n",
       "      <td>2</td>\n",
       "      <td>0</td>\n",
       "      <td>0.671870</td>\n",
       "      <td>39.640348</td>\n",
       "      <td>0</td>\n",
       "    </tr>\n",
       "    <tr>\n",
       "      <th>1</th>\n",
       "      <td>🌶 Hot Topics in Tech: Data Science Explained #...</td>\n",
       "      <td>OtqQYqRNDGI</td>\n",
       "      <td>59</td>\n",
       "      <td>https://i.ytimg.com/vi/OtqQYqRNDGI/hqdefault.jpg</td>\n",
       "      <td>ME</td>\n",
       "      <td>True</td>\n",
       "      <td>3</td>\n",
       "      <td>0</td>\n",
       "      <td>0</td>\n",
       "      <td>0</td>\n",
       "      <td>0</td>\n",
       "      <td>0</td>\n",
       "      <td>0.498870</td>\n",
       "      <td>29.433333</td>\n",
       "      <td>0</td>\n",
       "    </tr>\n",
       "    <tr>\n",
       "      <th>2</th>\n",
       "      <td>🌶 Hot Topics in Tech: Data Science Explained #...</td>\n",
       "      <td>OtqQYqRNDGI</td>\n",
       "      <td>59</td>\n",
       "      <td>https://i.ytimg.com/vi/OtqQYqRNDGI/hqdefault.jpg</td>\n",
       "      <td>RW</td>\n",
       "      <td>True</td>\n",
       "      <td>2</td>\n",
       "      <td>0</td>\n",
       "      <td>0</td>\n",
       "      <td>0</td>\n",
       "      <td>0</td>\n",
       "      <td>0</td>\n",
       "      <td>0.681780</td>\n",
       "      <td>40.225000</td>\n",
       "      <td>0</td>\n",
       "    </tr>\n",
       "    <tr>\n",
       "      <th>3</th>\n",
       "      <td>🌶 Hot Topics in Tech: Data Science Explained #...</td>\n",
       "      <td>OtqQYqRNDGI</td>\n",
       "      <td>59</td>\n",
       "      <td>https://i.ytimg.com/vi/OtqQYqRNDGI/hqdefault.jpg</td>\n",
       "      <td>US</td>\n",
       "      <td>True</td>\n",
       "      <td>979</td>\n",
       "      <td>81</td>\n",
       "      <td>6</td>\n",
       "      <td>8</td>\n",
       "      <td>16</td>\n",
       "      <td>4</td>\n",
       "      <td>0.694854</td>\n",
       "      <td>40.996389</td>\n",
       "      <td>0</td>\n",
       "    </tr>\n",
       "    <tr>\n",
       "      <th>4</th>\n",
       "      <td>🌶 Hot Topics in Tech: Data Science Explained #...</td>\n",
       "      <td>OtqQYqRNDGI</td>\n",
       "      <td>59</td>\n",
       "      <td>https://i.ytimg.com/vi/OtqQYqRNDGI/hqdefault.jpg</td>\n",
       "      <td>DE</td>\n",
       "      <td>False</td>\n",
       "      <td>75</td>\n",
       "      <td>3</td>\n",
       "      <td>0</td>\n",
       "      <td>1</td>\n",
       "      <td>0</td>\n",
       "      <td>0</td>\n",
       "      <td>0.661515</td>\n",
       "      <td>39.029373</td>\n",
       "      <td>0</td>\n",
       "    </tr>\n",
       "  </tbody>\n",
       "</table>\n",
       "</div>"
      ],
      "text/plain": [
       "                                         Video Title External Video ID  \\\n",
       "0  🌶 Hot Topics in Tech: Data Science Explained #...       OtqQYqRNDGI   \n",
       "1  🌶 Hot Topics in Tech: Data Science Explained #...       OtqQYqRNDGI   \n",
       "2  🌶 Hot Topics in Tech: Data Science Explained #...       OtqQYqRNDGI   \n",
       "3  🌶 Hot Topics in Tech: Data Science Explained #...       OtqQYqRNDGI   \n",
       "4  🌶 Hot Topics in Tech: Data Science Explained #...       OtqQYqRNDGI   \n",
       "\n",
       "   Video Length                                    Thumbnail link  \\\n",
       "0            59  https://i.ytimg.com/vi/OtqQYqRNDGI/hqdefault.jpg   \n",
       "1            59  https://i.ytimg.com/vi/OtqQYqRNDGI/hqdefault.jpg   \n",
       "2            59  https://i.ytimg.com/vi/OtqQYqRNDGI/hqdefault.jpg   \n",
       "3            59  https://i.ytimg.com/vi/OtqQYqRNDGI/hqdefault.jpg   \n",
       "4            59  https://i.ytimg.com/vi/OtqQYqRNDGI/hqdefault.jpg   \n",
       "\n",
       "  Country Code  Is Subscribed  Views  Video Likes Added  Video Dislikes Added  \\\n",
       "0           HK           True     23                  1                     0   \n",
       "1           ME           True      3                  0                     0   \n",
       "2           RW           True      2                  0                     0   \n",
       "3           US           True    979                 81                     6   \n",
       "4           DE          False     75                  3                     0   \n",
       "\n",
       "   Video Likes Removed  User Subscriptions Added  User Subscriptions Removed  \\\n",
       "0                    0                         2                           0   \n",
       "1                    0                         0                           0   \n",
       "2                    0                         0                           0   \n",
       "3                    8                        16                           4   \n",
       "4                    1                         0                           0   \n",
       "\n",
       "   Average View Percentage  Average Watch Time  User Comments Added  \n",
       "0                 0.671870           39.640348                    0  \n",
       "1                 0.498870           29.433333                    0  \n",
       "2                 0.681780           40.225000                    0  \n",
       "3                 0.694854           40.996389                    0  \n",
       "4                 0.661515           39.029373                    0  "
      ]
     },
     "execution_count": 67,
     "metadata": {},
     "output_type": "execute_result"
    }
   ],
   "source": [
    "df = pd.read_csv(\"./youtube/aggregated.csv\")\n",
    "df.replace([np.inf, -np.inf], np.nan, inplace=True)\n",
    "\n",
    "df.head()"
   ]
  },
  {
   "cell_type": "code",
   "execution_count": 68,
   "id": "criminal-confidentiality",
   "metadata": {},
   "outputs": [
    {
     "data": {
      "text/html": [
       "<div>\n",
       "<style scoped>\n",
       "    .dataframe tbody tr th:only-of-type {\n",
       "        vertical-align: middle;\n",
       "    }\n",
       "\n",
       "    .dataframe tbody tr th {\n",
       "        vertical-align: top;\n",
       "    }\n",
       "\n",
       "    .dataframe thead th {\n",
       "        text-align: right;\n",
       "    }\n",
       "</style>\n",
       "<table border=\"1\" class=\"dataframe\">\n",
       "  <thead>\n",
       "    <tr style=\"text-align: right;\">\n",
       "      <th></th>\n",
       "      <th>Video Length</th>\n",
       "      <th>Views</th>\n",
       "      <th>Video Likes Added</th>\n",
       "      <th>Video Dislikes Added</th>\n",
       "      <th>Video Likes Removed</th>\n",
       "      <th>User Subscriptions Added</th>\n",
       "      <th>User Subscriptions Removed</th>\n",
       "      <th>Average View Percentage</th>\n",
       "      <th>Average Watch Time</th>\n",
       "      <th>User Comments Added</th>\n",
       "    </tr>\n",
       "  </thead>\n",
       "  <tbody>\n",
       "    <tr>\n",
       "      <th>count</th>\n",
       "      <td>55292.000000</td>\n",
       "      <td>55292.000000</td>\n",
       "      <td>55292.000000</td>\n",
       "      <td>55292.000000</td>\n",
       "      <td>55292.000000</td>\n",
       "      <td>55292.000000</td>\n",
       "      <td>55292.000000</td>\n",
       "      <td>53854.000000</td>\n",
       "      <td>53854.000000</td>\n",
       "      <td>55292.0</td>\n",
       "    </tr>\n",
       "    <tr>\n",
       "      <th>mean</th>\n",
       "      <td>896.678073</td>\n",
       "      <td>100.573157</td>\n",
       "      <td>4.239311</td>\n",
       "      <td>0.106055</td>\n",
       "      <td>0.175577</td>\n",
       "      <td>2.365279</td>\n",
       "      <td>0.053389</td>\n",
       "      <td>0.347821</td>\n",
       "      <td>205.297156</td>\n",
       "      <td>0.0</td>\n",
       "    </tr>\n",
       "    <tr>\n",
       "      <th>std</th>\n",
       "      <td>927.380801</td>\n",
       "      <td>1704.966002</td>\n",
       "      <td>65.291451</td>\n",
       "      <td>2.507351</td>\n",
       "      <td>3.601171</td>\n",
       "      <td>65.889539</td>\n",
       "      <td>0.766945</td>\n",
       "      <td>0.259734</td>\n",
       "      <td>206.542106</td>\n",
       "      <td>0.0</td>\n",
       "    </tr>\n",
       "    <tr>\n",
       "      <th>min</th>\n",
       "      <td>47.000000</td>\n",
       "      <td>0.000000</td>\n",
       "      <td>0.000000</td>\n",
       "      <td>0.000000</td>\n",
       "      <td>0.000000</td>\n",
       "      <td>0.000000</td>\n",
       "      <td>0.000000</td>\n",
       "      <td>0.000000</td>\n",
       "      <td>0.000000</td>\n",
       "      <td>0.0</td>\n",
       "    </tr>\n",
       "    <tr>\n",
       "      <th>25%</th>\n",
       "      <td>375.000000</td>\n",
       "      <td>2.000000</td>\n",
       "      <td>0.000000</td>\n",
       "      <td>0.000000</td>\n",
       "      <td>0.000000</td>\n",
       "      <td>0.000000</td>\n",
       "      <td>0.000000</td>\n",
       "      <td>0.145948</td>\n",
       "      <td>85.442891</td>\n",
       "      <td>0.0</td>\n",
       "    </tr>\n",
       "    <tr>\n",
       "      <th>50%</th>\n",
       "      <td>545.000000</td>\n",
       "      <td>7.000000</td>\n",
       "      <td>0.000000</td>\n",
       "      <td>0.000000</td>\n",
       "      <td>0.000000</td>\n",
       "      <td>0.000000</td>\n",
       "      <td>0.000000</td>\n",
       "      <td>0.320983</td>\n",
       "      <td>170.139725</td>\n",
       "      <td>0.0</td>\n",
       "    </tr>\n",
       "    <tr>\n",
       "      <th>75%</th>\n",
       "      <td>934.000000</td>\n",
       "      <td>27.000000</td>\n",
       "      <td>1.000000</td>\n",
       "      <td>0.000000</td>\n",
       "      <td>0.000000</td>\n",
       "      <td>0.000000</td>\n",
       "      <td>0.000000</td>\n",
       "      <td>0.486153</td>\n",
       "      <td>259.449958</td>\n",
       "      <td>0.0</td>\n",
       "    </tr>\n",
       "    <tr>\n",
       "      <th>max</th>\n",
       "      <td>5029.000000</td>\n",
       "      <td>285593.000000</td>\n",
       "      <td>9165.000000</td>\n",
       "      <td>399.000000</td>\n",
       "      <td>436.000000</td>\n",
       "      <td>9599.000000</td>\n",
       "      <td>103.000000</td>\n",
       "      <td>4.967797</td>\n",
       "      <td>5027.660000</td>\n",
       "      <td>0.0</td>\n",
       "    </tr>\n",
       "  </tbody>\n",
       "</table>\n",
       "</div>"
      ],
      "text/plain": [
       "       Video Length          Views  Video Likes Added  Video Dislikes Added  \\\n",
       "count  55292.000000   55292.000000       55292.000000          55292.000000   \n",
       "mean     896.678073     100.573157           4.239311              0.106055   \n",
       "std      927.380801    1704.966002          65.291451              2.507351   \n",
       "min       47.000000       0.000000           0.000000              0.000000   \n",
       "25%      375.000000       2.000000           0.000000              0.000000   \n",
       "50%      545.000000       7.000000           0.000000              0.000000   \n",
       "75%      934.000000      27.000000           1.000000              0.000000   \n",
       "max     5029.000000  285593.000000        9165.000000            399.000000   \n",
       "\n",
       "       Video Likes Removed  User Subscriptions Added  \\\n",
       "count         55292.000000              55292.000000   \n",
       "mean              0.175577                  2.365279   \n",
       "std               3.601171                 65.889539   \n",
       "min               0.000000                  0.000000   \n",
       "25%               0.000000                  0.000000   \n",
       "50%               0.000000                  0.000000   \n",
       "75%               0.000000                  0.000000   \n",
       "max             436.000000               9599.000000   \n",
       "\n",
       "       User Subscriptions Removed  Average View Percentage  \\\n",
       "count                55292.000000             53854.000000   \n",
       "mean                     0.053389                 0.347821   \n",
       "std                      0.766945                 0.259734   \n",
       "min                      0.000000                 0.000000   \n",
       "25%                      0.000000                 0.145948   \n",
       "50%                      0.000000                 0.320983   \n",
       "75%                      0.000000                 0.486153   \n",
       "max                    103.000000                 4.967797   \n",
       "\n",
       "       Average Watch Time  User Comments Added  \n",
       "count        53854.000000              55292.0  \n",
       "mean           205.297156                  0.0  \n",
       "std            206.542106                  0.0  \n",
       "min              0.000000                  0.0  \n",
       "25%             85.442891                  0.0  \n",
       "50%            170.139725                  0.0  \n",
       "75%            259.449958                  0.0  \n",
       "max           5027.660000                  0.0  "
      ]
     },
     "execution_count": 68,
     "metadata": {},
     "output_type": "execute_result"
    }
   ],
   "source": [
    "df.describe()"
   ]
  },
  {
   "cell_type": "code",
   "execution_count": 69,
   "id": "alert-alias",
   "metadata": {},
   "outputs": [
    {
     "data": {
      "text/plain": [
       "233"
      ]
     },
     "execution_count": 69,
     "metadata": {},
     "output_type": "execute_result"
    }
   ],
   "source": [
    "# unique country codes\n",
    "\n",
    "df['Country Code'].nunique() "
   ]
  },
  {
   "cell_type": "code",
   "execution_count": 70,
   "id": "accomplished-humidity",
   "metadata": {
    "scrolled": true
   },
   "outputs": [
    {
     "data": {
      "text/html": [
       "<div>\n",
       "<style scoped>\n",
       "    .dataframe tbody tr th:only-of-type {\n",
       "        vertical-align: middle;\n",
       "    }\n",
       "\n",
       "    .dataframe tbody tr th {\n",
       "        vertical-align: top;\n",
       "    }\n",
       "\n",
       "    .dataframe thead th {\n",
       "        text-align: right;\n",
       "    }\n",
       "</style>\n",
       "<table border=\"1\" class=\"dataframe\">\n",
       "  <thead>\n",
       "    <tr style=\"text-align: right;\">\n",
       "      <th></th>\n",
       "      <th>Video Title</th>\n",
       "      <th>Country Code</th>\n",
       "      <th>Views</th>\n",
       "      <th>Is Subscribed</th>\n",
       "    </tr>\n",
       "  </thead>\n",
       "  <tbody>\n",
       "    <tr>\n",
       "      <th>0</th>\n",
       "      <td>🌶 Hot Topics in Tech: Data Science Explained #...</td>\n",
       "      <td>HK</td>\n",
       "      <td>23</td>\n",
       "      <td>True</td>\n",
       "    </tr>\n",
       "    <tr>\n",
       "      <th>1</th>\n",
       "      <td>🌶 Hot Topics in Tech: Data Science Explained #...</td>\n",
       "      <td>ME</td>\n",
       "      <td>3</td>\n",
       "      <td>True</td>\n",
       "    </tr>\n",
       "    <tr>\n",
       "      <th>2</th>\n",
       "      <td>🌶 Hot Topics in Tech: Data Science Explained #...</td>\n",
       "      <td>RW</td>\n",
       "      <td>2</td>\n",
       "      <td>True</td>\n",
       "    </tr>\n",
       "    <tr>\n",
       "      <th>3</th>\n",
       "      <td>🌶 Hot Topics in Tech: Data Science Explained #...</td>\n",
       "      <td>US</td>\n",
       "      <td>979</td>\n",
       "      <td>True</td>\n",
       "    </tr>\n",
       "    <tr>\n",
       "      <th>4</th>\n",
       "      <td>🌶 Hot Topics in Tech: Data Science Explained #...</td>\n",
       "      <td>DE</td>\n",
       "      <td>75</td>\n",
       "      <td>False</td>\n",
       "    </tr>\n",
       "  </tbody>\n",
       "</table>\n",
       "</div>"
      ],
      "text/plain": [
       "                                         Video Title Country Code  Views  \\\n",
       "0  🌶 Hot Topics in Tech: Data Science Explained #...           HK     23   \n",
       "1  🌶 Hot Topics in Tech: Data Science Explained #...           ME      3   \n",
       "2  🌶 Hot Topics in Tech: Data Science Explained #...           RW      2   \n",
       "3  🌶 Hot Topics in Tech: Data Science Explained #...           US    979   \n",
       "4  🌶 Hot Topics in Tech: Data Science Explained #...           DE     75   \n",
       "\n",
       "   Is Subscribed  \n",
       "0           True  \n",
       "1           True  \n",
       "2           True  \n",
       "3           True  \n",
       "4          False  "
      ]
     },
     "execution_count": 70,
     "metadata": {},
     "output_type": "execute_result"
    }
   ],
   "source": [
    "# subset df to see highest views by country\n",
    "\n",
    "country_views = df[['Video Title','Country Code','Views','Is Subscribed']]\n",
    "country_views.head()"
   ]
  },
  {
   "cell_type": "code",
   "execution_count": 71,
   "id": "front-palace",
   "metadata": {},
   "outputs": [
    {
     "data": {
      "text/html": [
       "<div>\n",
       "<style scoped>\n",
       "    .dataframe tbody tr th:only-of-type {\n",
       "        vertical-align: middle;\n",
       "    }\n",
       "\n",
       "    .dataframe tbody tr th {\n",
       "        vertical-align: top;\n",
       "    }\n",
       "\n",
       "    .dataframe thead th {\n",
       "        text-align: right;\n",
       "    }\n",
       "</style>\n",
       "<table border=\"1\" class=\"dataframe\">\n",
       "  <thead>\n",
       "    <tr style=\"text-align: right;\">\n",
       "      <th></th>\n",
       "      <th>Video Title</th>\n",
       "      <th>Country Code</th>\n",
       "      <th>Views</th>\n",
       "      <th>Is Subscribed</th>\n",
       "    </tr>\n",
       "  </thead>\n",
       "  <tbody>\n",
       "    <tr>\n",
       "      <th>16082</th>\n",
       "      <td>Should You Be Excited About Web 3? (As a Data ...</td>\n",
       "      <td>TZ</td>\n",
       "      <td>0</td>\n",
       "      <td>False</td>\n",
       "    </tr>\n",
       "    <tr>\n",
       "      <th>42327</th>\n",
       "      <td>Data Science in Golf: PGA Merchandise Show 2020</td>\n",
       "      <td>LK</td>\n",
       "      <td>0</td>\n",
       "      <td>False</td>\n",
       "    </tr>\n",
       "    <tr>\n",
       "      <th>5521</th>\n",
       "      <td>What is the Future of my Comment Leaderboard P...</td>\n",
       "      <td>NaN</td>\n",
       "      <td>0</td>\n",
       "      <td>False</td>\n",
       "    </tr>\n",
       "    <tr>\n",
       "      <th>11822</th>\n",
       "      <td>The Data Science Interview: What to Expect</td>\n",
       "      <td>PE</td>\n",
       "      <td>0</td>\n",
       "      <td>False</td>\n",
       "    </tr>\n",
       "    <tr>\n",
       "      <th>14476</th>\n",
       "      <td>Thank You For The Support | What's Next | Ken ...</td>\n",
       "      <td>EG</td>\n",
       "      <td>0</td>\n",
       "      <td>False</td>\n",
       "    </tr>\n",
       "    <tr>\n",
       "      <th>...</th>\n",
       "      <td>...</td>\n",
       "      <td>...</td>\n",
       "      <td>...</td>\n",
       "      <td>...</td>\n",
       "    </tr>\n",
       "    <tr>\n",
       "      <th>35783</th>\n",
       "      <td>How I Would Learn Data Science (If I Had to St...</td>\n",
       "      <td>CA</td>\n",
       "      <td>44835</td>\n",
       "      <td>False</td>\n",
       "    </tr>\n",
       "    <tr>\n",
       "      <th>35557</th>\n",
       "      <td>How I Would Learn Data Science (If I Had to St...</td>\n",
       "      <td>GB</td>\n",
       "      <td>49982</td>\n",
       "      <td>False</td>\n",
       "    </tr>\n",
       "    <tr>\n",
       "      <th>12331</th>\n",
       "      <td>The Best Free Data Science Courses Nobody is T...</td>\n",
       "      <td>IN</td>\n",
       "      <td>70240</td>\n",
       "      <td>False</td>\n",
       "    </tr>\n",
       "    <tr>\n",
       "      <th>35664</th>\n",
       "      <td>How I Would Learn Data Science (If I Had to St...</td>\n",
       "      <td>IN</td>\n",
       "      <td>203055</td>\n",
       "      <td>False</td>\n",
       "    </tr>\n",
       "    <tr>\n",
       "      <th>35823</th>\n",
       "      <td>How I Would Learn Data Science (If I Had to St...</td>\n",
       "      <td>US</td>\n",
       "      <td>285593</td>\n",
       "      <td>False</td>\n",
       "    </tr>\n",
       "  </tbody>\n",
       "</table>\n",
       "<p>55292 rows × 4 columns</p>\n",
       "</div>"
      ],
      "text/plain": [
       "                                             Video Title Country Code   Views  \\\n",
       "16082  Should You Be Excited About Web 3? (As a Data ...           TZ       0   \n",
       "42327    Data Science in Golf: PGA Merchandise Show 2020           LK       0   \n",
       "5521   What is the Future of my Comment Leaderboard P...          NaN       0   \n",
       "11822         The Data Science Interview: What to Expect           PE       0   \n",
       "14476  Thank You For The Support | What's Next | Ken ...           EG       0   \n",
       "...                                                  ...          ...     ...   \n",
       "35783  How I Would Learn Data Science (If I Had to St...           CA   44835   \n",
       "35557  How I Would Learn Data Science (If I Had to St...           GB   49982   \n",
       "12331  The Best Free Data Science Courses Nobody is T...           IN   70240   \n",
       "35664  How I Would Learn Data Science (If I Had to St...           IN  203055   \n",
       "35823  How I Would Learn Data Science (If I Had to St...           US  285593   \n",
       "\n",
       "       Is Subscribed  \n",
       "16082          False  \n",
       "42327          False  \n",
       "5521           False  \n",
       "11822          False  \n",
       "14476          False  \n",
       "...              ...  \n",
       "35783          False  \n",
       "35557          False  \n",
       "12331          False  \n",
       "35664          False  \n",
       "35823          False  \n",
       "\n",
       "[55292 rows x 4 columns]"
      ]
     },
     "execution_count": 71,
     "metadata": {},
     "output_type": "execute_result"
    }
   ],
   "source": [
    "# sort values by views \n",
    "\n",
    "country_views.sort_values(by=['Views'])"
   ]
  },
  {
   "cell_type": "code",
   "execution_count": 72,
   "id": "abroad-happening",
   "metadata": {},
   "outputs": [
    {
     "data": {
      "image/png": "[encoded data removed]",
      "text/plain": [
       "<Figure size 640x480 with 1 Axes>"
      ]
     },
     "metadata": {},
     "output_type": "display_data"
    },
    {
     "data": {
      "text/plain": [
       "<ggplot: (8783927114518)>"
      ]
     },
     "execution_count": 72,
     "metadata": {},
     "output_type": "execute_result"
    }
   ],
   "source": [
    "ggplot(df, aes(x='Is Subscribed', fill='Is Subscribed')) + geom_bar() + theme_bw() + labs(x='Is Subscribed', y='Count', title='Subscription Count')"
   ]
  },
  {
   "cell_type": "markdown",
   "id": "better-conditions",
   "metadata": {},
   "source": [
    "## Logistic Regression"
   ]
  },
  {
   "cell_type": "code",
   "execution_count": 77,
   "id": "overhead-stick",
   "metadata": {},
   "outputs": [],
   "source": [
    "# predictors\n",
    "preds = ['Video Length','Views','Video Likes Added','Video Dislikes Added','Video Likes Removed','User Subscriptions Added','User Subscriptions Removed']\n",
    "x = df[preds]\n",
    "# outcome\n",
    "y = df['Is Subscribed']\n",
    "\n",
    "\n",
    "# train test split \n",
    "X_train, X_test, y_train, y_test = train_test_split(x,y, test_size = 0.2)"
   ]
  },
  {
   "cell_type": "code",
   "execution_count": 78,
   "id": "vietnamese-thursday",
   "metadata": {},
   "outputs": [],
   "source": [
    "# zcsore \n",
    "\n",
    "z = StandardScaler()\n",
    "z.fit(X_train)\n",
    "\n",
    "X_train[preds] = z.transform(X_train)\n",
    "X_test[preds] = z.transform(X_test)"
   ]
  },
  {
   "cell_type": "code",
   "execution_count": 79,
   "id": "cooked-opera",
   "metadata": {},
   "outputs": [],
   "source": [
    "# create Logit obj \n",
    "\n",
    "myLogit = LogisticRegression(penalty = \"none\") "
   ]
  },
  {
   "cell_type": "code",
   "execution_count": 80,
   "id": "binding-return",
   "metadata": {},
   "outputs": [
    {
     "data": {
      "text/plain": [
       "LogisticRegression(penalty='none')"
      ]
     },
     "execution_count": 80,
     "metadata": {},
     "output_type": "execute_result"
    }
   ],
   "source": [
    "#fit the training data\n",
    "\n",
    "myLogit.fit(X_train, y_train)"
   ]
  },
  {
   "cell_type": "code",
   "execution_count": 81,
   "id": "durable-dividend",
   "metadata": {},
   "outputs": [],
   "source": [
    "#predict\n",
    "\n",
    "predictedVals = myLogit.predict(X_test)\n",
    "predictedProbs = myLogit.predict_proba(X_test)"
   ]
  },
  {
   "cell_type": "code",
   "execution_count": 83,
   "id": "innocent-swiss",
   "metadata": {},
   "outputs": [
    {
     "data": {
      "text/plain": [
       "<sklearn.metrics._plot.confusion_matrix.ConfusionMatrixDisplay at 0x7fd2adb0cdc0>"
      ]
     },
     "execution_count": 83,
     "metadata": {},
     "output_type": "execute_result"
    },
    {
     "data": {
      "image/png": "[encoded data removed]",
      "text/plain": [
       "<Figure size 432x288 with 2 Axes>"
      ]
     },
     "metadata": {
      "needs_background": "light"
     },
     "output_type": "display_data"
    }
   ],
   "source": [
    "# confusion matrix\n",
    "\n",
    "plot_confusion_matrix(myLogit,X_test, y_test)"
   ]
  },
  {
   "cell_type": "code",
   "execution_count": null,
   "id": "executive-aging",
   "metadata": {},
   "outputs": [],
   "source": [
    "# true negative = an outcome where the model correctly predicts the negative class.\n",
    "# true postive = an outcome where the model correctly predicts the positive class.\n",
    "\n",
    "# false positive = an outcome where the model incorrectly predicts the positive class\n",
    "# false negative = an outcome where the model incorrectly predicts the negative class."
   ]
  },
  {
   "cell_type": "code",
   "execution_count": 86,
   "id": "junior-court",
   "metadata": {},
   "outputs": [
    {
     "name": "stdout",
     "output_type": "stream",
     "text": [
      "Accuracy:  0.7076589203363776\n",
      "F1 Score:  0.6081687068234154\n",
      "Recall:  0.46757361162877376\n",
      "Precision:  0.8696707105719237\n"
     ]
    }
   ],
   "source": [
    "# metrics for test set\n",
    "print(\"Accuracy: \", accuracy_score(y_test, predictedVals))\n",
    "print(\"F1 Score: \", f1_score(y_test, predictedVals))\n",
    "print(\"Recall: \", recall_score(y_test, predictedVals))\n",
    "print(\"Precision: \", precision_score(y_test, predictedVals))"
   ]
  },
  {
   "cell_type": "code",
   "execution_count": 87,
   "id": "coastal-director",
   "metadata": {},
   "outputs": [
    {
     "name": "stdout",
     "output_type": "stream",
     "text": [
      "Accuracy:  0.7059887414373883\n",
      "F1 Score:  0.6035906971073246\n",
      "Recall:  0.4640078732777205\n",
      "Precision:  0.8632836341442148\n"
     ]
    }
   ],
   "source": [
    "# metrics training set\n",
    "print(\"Accuracy: \", accuracy_score(y_train, myLogit.predict(X_train)))\n",
    "print(\"F1 Score: \", f1_score(y_train, myLogit.predict(X_train)))\n",
    "print(\"Recall: \", recall_score(y_train, myLogit.predict(X_train)))\n",
    "print(\"Precision: \", precision_score(y_train, myLogit.predict(X_train)))"
   ]
  },
  {
   "cell_type": "code",
   "execution_count": 88,
   "id": "periodic-violation",
   "metadata": {},
   "outputs": [
    {
     "data": {
      "text/plain": [
       "<sklearn.metrics._plot.roc_curve.RocCurveDisplay at 0x7fd2b1112e80>"
      ]
     },
     "execution_count": 88,
     "metadata": {},
     "output_type": "execute_result"
    },
    {
     "data": {
      "image/png": "[encoded data removed]",
      "text/plain": [
       "<Figure size 432x288 with 1 Axes>"
      ]
     },
     "metadata": {
      "needs_background": "light"
     },
     "output_type": "display_data"
    }
   ],
   "source": [
    "# ROC curve for test set \n",
    "plot_roc_curve(myLogit, X_test, y_test)"
   ]
  },
  {
   "cell_type": "code",
   "execution_count": 89,
   "id": "naughty-charm",
   "metadata": {
    "scrolled": true
   },
   "outputs": [
    {
     "data": {
      "text/plain": [
       "<sklearn.metrics._plot.roc_curve.RocCurveDisplay at 0x7fd2c22216a0>"
      ]
     },
     "execution_count": 89,
     "metadata": {},
     "output_type": "execute_result"
    },
    {
     "data": {
      "image/png": "[encoded data removed]",
      "text/plain": [
       "<Figure size 432x288 with 1 Axes>"
      ]
     },
     "metadata": {
      "needs_background": "light"
     },
     "output_type": "display_data"
    }
   ],
   "source": [
    "# ROC curve for train set\n",
    "plot_roc_curve(myLogit, X_train, y_train)\n"
   ]
  },
  {
   "cell_type": "markdown",
   "id": "coupled-colors",
   "metadata": {},
   "source": [
    "## Coefs"
   ]
  },
  {
   "cell_type": "code",
   "execution_count": 91,
   "id": "musical-advertiser",
   "metadata": {},
   "outputs": [],
   "source": [
    "coef = pd.DataFrame({\"Coefs\": myLogit.coef_[0],\n",
    "                    \"Names\": preds})\n",
    "coef = coef.append({\"Coefs\": myLogit.intercept_[0],\n",
    "                    \"Names\": \"intercept\"}, ignore_index = True)"
   ]
  },
  {
   "cell_type": "code",
   "execution_count": 92,
   "id": "weird-wings",
   "metadata": {
    "scrolled": true
   },
   "outputs": [
    {
     "data": {
      "text/html": [
       "<div>\n",
       "<style scoped>\n",
       "    .dataframe tbody tr th:only-of-type {\n",
       "        vertical-align: middle;\n",
       "    }\n",
       "\n",
       "    .dataframe tbody tr th {\n",
       "        vertical-align: top;\n",
       "    }\n",
       "\n",
       "    .dataframe thead th {\n",
       "        text-align: right;\n",
       "    }\n",
       "</style>\n",
       "<table border=\"1\" class=\"dataframe\">\n",
       "  <thead>\n",
       "    <tr style=\"text-align: right;\">\n",
       "      <th></th>\n",
       "      <th>Coefs</th>\n",
       "      <th>Names</th>\n",
       "      <th>Odds Coef</th>\n",
       "    </tr>\n",
       "  </thead>\n",
       "  <tbody>\n",
       "    <tr>\n",
       "      <th>0</th>\n",
       "      <td>0.067397</td>\n",
       "      <td>Video Length</td>\n",
       "      <td>1.069721e+00</td>\n",
       "    </tr>\n",
       "    <tr>\n",
       "      <th>1</th>\n",
       "      <td>-78.809142</td>\n",
       "      <td>Views</td>\n",
       "      <td>5.937788e-35</td>\n",
       "    </tr>\n",
       "    <tr>\n",
       "      <th>2</th>\n",
       "      <td>35.797753</td>\n",
       "      <td>Video Likes Added</td>\n",
       "      <td>3.521815e+15</td>\n",
       "    </tr>\n",
       "    <tr>\n",
       "      <th>3</th>\n",
       "      <td>-1.219197</td>\n",
       "      <td>Video Dislikes Added</td>\n",
       "      <td>2.954673e-01</td>\n",
       "    </tr>\n",
       "    <tr>\n",
       "      <th>4</th>\n",
       "      <td>-2.752875</td>\n",
       "      <td>Video Likes Removed</td>\n",
       "      <td>6.374433e-02</td>\n",
       "    </tr>\n",
       "    <tr>\n",
       "      <th>5</th>\n",
       "      <td>1212.509360</td>\n",
       "      <td>User Subscriptions Added</td>\n",
       "      <td>inf</td>\n",
       "    </tr>\n",
       "    <tr>\n",
       "      <th>6</th>\n",
       "      <td>669.137382</td>\n",
       "      <td>User Subscriptions Removed</td>\n",
       "      <td>4.005648e+290</td>\n",
       "    </tr>\n",
       "    <tr>\n",
       "      <th>7</th>\n",
       "      <td>84.256816</td>\n",
       "      <td>intercept</td>\n",
       "      <td>3.910840e+36</td>\n",
       "    </tr>\n",
       "  </tbody>\n",
       "</table>\n",
       "</div>"
      ],
      "text/plain": [
       "         Coefs                       Names      Odds Coef\n",
       "0     0.067397                Video Length   1.069721e+00\n",
       "1   -78.809142                       Views   5.937788e-35\n",
       "2    35.797753           Video Likes Added   3.521815e+15\n",
       "3    -1.219197        Video Dislikes Added   2.954673e-01\n",
       "4    -2.752875         Video Likes Removed   6.374433e-02\n",
       "5  1212.509360    User Subscriptions Added            inf\n",
       "6   669.137382  User Subscriptions Removed  4.005648e+290\n",
       "7    84.256816                   intercept   3.910840e+36"
      ]
     },
     "execution_count": 92,
     "metadata": {},
     "output_type": "execute_result"
    }
   ],
   "source": [
    "coef[\"Odds Coef\"] = np.exp(coef[\"Coefs\"])\n",
    "coef"
   ]
  },
  {
   "cell_type": "markdown",
   "id": "exotic-rainbow",
   "metadata": {},
   "source": [
    "# Coef interpretation\n",
    "- if Video Length increases by one unit, then the likelihood of a viewer being subscribed is more likely. \n",
    "- if Views increases by one unit, then the likelihood of a viewer being subscribed is less likely. \n",
    "\n",
    "Coeffs that effect the likelihood of a subscriber:\n",
    "- Video Length\n",
    "- Video Likes Added\n",
    "- User Subscriptions Removed"
   ]
  }
 ],
 "metadata": {
  "kernelspec": {
   "display_name": "Python 3",
   "language": "python",
   "name": "python3"
  },
  "language_info": {
   "codemirror_mode": {
    "name": "ipython",
    "version": 3
   },
   "file_extension": ".py",
   "mimetype": "text/x-python",
   "name": "python",
   "nbconvert_exporter": "python",
   "pygments_lexer": "ipython3",
   "version": "3.9.6"
  }
 },
 "nbformat": 4,
 "nbformat_minor": 5
}
